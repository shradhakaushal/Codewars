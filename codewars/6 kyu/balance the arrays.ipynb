{
 "cells": [
  {
   "cell_type": "code",
   "execution_count": null,
   "metadata": {},
   "outputs": [],
   "source": [
    "def get_length_of_missing_array(array_of_arrays):\n",
    "    if array_of_arrays is None:\n",
    "        return 0\n",
    "    elif len(array_of_arrays) == 0:\n",
    "        return 0\n",
    "    else:\n",
    "        for i in array_of_arrays:\n",
    "            if i is None or len(i) == 0:\n",
    "                return 0\n",
    "\n",
    "    len_arr = []\n",
    "    for i in array_of_arrays:\n",
    "        len_arr.append(len(i))\n",
    "    len_arr = sorted(len_arr)\n",
    "    i = 0\n",
    "    while i < len(len_arr)-1:\n",
    "        if len_arr[i+1] - len_arr[i] > 1:\n",
    "            return len_arr[i] + 1\n",
    "        i += 1"
   ]
  }
 ],
 "metadata": {
  "kernelspec": {
   "display_name": "Python 3",
   "language": "python",
   "name": "python3"
  },
  "language_info": {
   "codemirror_mode": {
    "name": "ipython",
    "version": 3
   },
   "file_extension": ".py",
   "mimetype": "text/x-python",
   "name": "python",
   "nbconvert_exporter": "python",
   "pygments_lexer": "ipython3",
   "version": "3.7.3"
  }
 },
 "nbformat": 4,
 "nbformat_minor": 2
}
