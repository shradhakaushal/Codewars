{
 "cells": [
  {
   "cell_type": "code",
   "execution_count": 1,
   "metadata": {},
   "outputs": [],
   "source": [
    "def tribonacci(s, n):\n",
    "    count = 0\n",
    "    tribo = []\n",
    "    for i in s:\n",
    "        n0 = s[0]\n",
    "        n1 = s[1]\n",
    "        n2 = s[2]\n",
    "    if n < 0:\n",
    "        print (\"enter a positive integer\")\n",
    "    elif n == 1:\n",
    "        print (\"tribonacci sequence is:\", n0)\n",
    "    else:\n",
    "        print (\"tribonacci sequence upto\", n, \":\")\n",
    "    while count < n:\n",
    "        print (n0, end = \",\")\n",
    "        nth = n0 + n1 + n2\n",
    "        n0 = n1\n",
    "        n1 = n2\n",
    "        n2 = nth\n",
    "        count += 1\n",
    "        s.append(nth)\n",
    "        elm = s.pop(0)\n",
    "        tribo.append(elm)\n",
    "    return (tribo)"
   ]
  },
  {
   "cell_type": "code",
   "execution_count": null,
   "metadata": {},
   "outputs": [],
   "source": []
  }
 ],
 "metadata": {
  "kernelspec": {
   "display_name": "Python 3",
   "language": "python",
   "name": "python3"
  },
  "language_info": {
   "codemirror_mode": {
    "name": "ipython",
    "version": 3
   },
   "file_extension": ".py",
   "mimetype": "text/x-python",
   "name": "python",
   "nbconvert_exporter": "python",
   "pygments_lexer": "ipython3",
   "version": "3.7.3"
  }
 },
 "nbformat": 4,
 "nbformat_minor": 2
}
