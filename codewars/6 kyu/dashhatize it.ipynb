{
 "cells": [
  {
   "cell_type": "code",
   "execution_count": 1,
   "metadata": {},
   "outputs": [],
   "source": [
    "def dashatize(num):\n",
    "    if not num and not (num == 0):\n",
    "        return 'None'\n",
    "\n",
    "    result = '-'.join(str(abs(num)))\n",
    "    copy_result = result[:]\n",
    "    occurrences = 0\n",
    "\n",
    "    for index, value in enumerate(result):\n",
    "        if value == '-':\n",
    "            if int(result[index - 1]) % 2 == 0 and int(result[index + 1]) % 2 == 0:\n",
    "                copy_result = copy_result[:index - occurrences] + copy_result[index + 1 - occurrences:]\n",
    "                occurrences += 1\n",
    "\n",
    "    return copy_result"
   ]
  },
  {
   "cell_type": "code",
   "execution_count": null,
   "metadata": {},
   "outputs": [],
   "source": []
  }
 ],
 "metadata": {
  "kernelspec": {
   "display_name": "Python 3",
   "language": "python",
   "name": "python3"
  },
  "language_info": {
   "codemirror_mode": {
    "name": "ipython",
    "version": 3
   },
   "file_extension": ".py",
   "mimetype": "text/x-python",
   "name": "python",
   "nbconvert_exporter": "python",
   "pygments_lexer": "ipython3",
   "version": "3.7.3"
  }
 },
 "nbformat": 4,
 "nbformat_minor": 2
}
