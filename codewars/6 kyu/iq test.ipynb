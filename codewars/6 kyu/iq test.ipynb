{
 "cells": [
  {
   "cell_type": "code",
   "execution_count": null,
   "metadata": {},
   "outputs": [],
   "source": [
    "def iq_test(numbers):\n",
    "    a = [int(i) for i in numbers.split(\" \")]\n",
    "    odd = 0\n",
    "    even = 0\n",
    "    for n in a:\n",
    "        if n%2 == 0:\n",
    "            even += 1\n",
    "\n",
    "    for n in a:\n",
    "        if n%2 != 0:\n",
    "            odd += 1\n",
    "\n",
    "    if odd == 1:\n",
    "        for i, value in enumerate(a,1):\n",
    "            if value%2 != 0:\n",
    "                return i\n",
    "    elif even == 1:\n",
    "        for i, value in enumerate(a,1):\n",
    "            if value%2 == 0:\n",
    "                return i\n",
    "    else:\n",
    "        return 0"
   ]
  }
 ],
 "metadata": {
  "kernelspec": {
   "display_name": "Python 3",
   "language": "python",
   "name": "python3"
  },
  "language_info": {
   "codemirror_mode": {
    "name": "ipython",
    "version": 3
   },
   "file_extension": ".py",
   "mimetype": "text/x-python",
   "name": "python",
   "nbconvert_exporter": "python",
   "pygments_lexer": "ipython3",
   "version": "3.7.3"
  }
 },
 "nbformat": 4,
 "nbformat_minor": 2
}
