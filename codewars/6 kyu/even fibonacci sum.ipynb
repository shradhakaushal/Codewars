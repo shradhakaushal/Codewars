{
 "cells": [
  {
   "cell_type": "code",
   "execution_count": null,
   "metadata": {},
   "outputs": [],
   "source": [
    "def even_fib(m):\n",
    "    if m == 0 or m == 1:\n",
    "        return 0\n",
    "    else:\n",
    "        arr = []\n",
    "        a = 0\n",
    "        b = 1\n",
    "        c = 0\n",
    "        while c < m:\n",
    "            c = a+b\n",
    "            if c % 2 == 0 and c < m:\n",
    "                arr.append(c)\n",
    "            a = b\n",
    "            b = c\n",
    "        return sum(arr)"
   ]
  }
 ],
 "metadata": {
  "kernelspec": {
   "display_name": "Python 3",
   "language": "python",
   "name": "python3"
  },
  "language_info": {
   "codemirror_mode": {
    "name": "ipython",
    "version": 3
   },
   "file_extension": ".py",
   "mimetype": "text/x-python",
   "name": "python",
   "nbconvert_exporter": "python",
   "pygments_lexer": "ipython3",
   "version": "3.7.3"
  }
 },
 "nbformat": 4,
 "nbformat_minor": 2
}
