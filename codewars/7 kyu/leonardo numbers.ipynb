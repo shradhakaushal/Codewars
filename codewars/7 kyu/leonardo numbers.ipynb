{
 "cells": [
  {
   "cell_type": "code",
   "execution_count": null,
   "metadata": {},
   "outputs": [],
   "source": [
    "def L(n, l0, l1, add):\n",
    "    count = 0\n",
    "    LD = [l0 , l1]\n",
    "    leo = []\n",
    "    while count < n:\n",
    "        ln = l0 + l1 + add\n",
    "        l0 = l1\n",
    "        l1 = ln\n",
    "        count +=1\n",
    "        LD.append(ln)\n",
    "        elm = LD.pop(0)\n",
    "        leo.append(elm)\n",
    "    return (leo)"
   ]
  }
 ],
 "metadata": {
  "kernelspec": {
   "display_name": "Python 3",
   "language": "python",
   "name": "python3"
  },
  "language_info": {
   "codemirror_mode": {
    "name": "ipython",
    "version": 3
   },
   "file_extension": ".py",
   "mimetype": "text/x-python",
   "name": "python",
   "nbconvert_exporter": "python",
   "pygments_lexer": "ipython3",
   "version": "3.7.3"
  }
 },
 "nbformat": 4,
 "nbformat_minor": 2
}
