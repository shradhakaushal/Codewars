{
 "cells": [
  {
   "cell_type": "code",
   "execution_count": 1,
   "metadata": {},
   "outputs": [],
   "source": [
    "def show_sequence(n):\n",
    "    x = range(0, n+1)\n",
    "    y = list(x)\n",
    "    su = sum(y)\n",
    "    a = len(y)\n",
    "    if n > 0:\n",
    "        i = 0\n",
    "        ans = \"\"\n",
    "        ans1 = 0\n",
    "        while i< n:\n",
    "            ans = ans + str(i) + \"+\"\n",
    "            ans1 += i\n",
    "            i += 1\n",
    "        ans = ans + str(n) + \" = \" + str(su)\n",
    "        return ans\n",
    "            \n",
    "            \n",
    "    elif n ==0:\n",
    "        return \"0=0\"\n",
    "    else:\n",
    "        n < 0\n",
    "        return str(n) + \"<0\""
   ]
  },
  {
   "cell_type": "code",
   "execution_count": null,
   "metadata": {},
   "outputs": [],
   "source": []
  }
 ],
 "metadata": {
  "kernelspec": {
   "display_name": "Python 3",
   "language": "python",
   "name": "python3"
  },
  "language_info": {
   "codemirror_mode": {
    "name": "ipython",
    "version": 3
   },
   "file_extension": ".py",
   "mimetype": "text/x-python",
   "name": "python",
   "nbconvert_exporter": "python",
   "pygments_lexer": "ipython3",
   "version": "3.7.3"
  }
 },
 "nbformat": 4,
 "nbformat_minor": 2
}
