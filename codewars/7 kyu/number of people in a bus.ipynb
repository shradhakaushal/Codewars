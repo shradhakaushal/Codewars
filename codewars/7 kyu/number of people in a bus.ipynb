{
 "cells": [
  {
   "cell_type": "code",
   "execution_count": null,
   "metadata": {},
   "outputs": [],
   "source": [
    "def number(bus_stops):\n",
    "    e = [x for t in bus_stops for x in t]\n",
    "    f = e[1::2]\n",
    "    g = e[0::2]\n",
    "    sub = sum(f)\n",
    "    su = sum(g)\n",
    "    x = su - sub\n",
    "    return x"
   ]
  }
 ],
 "metadata": {
  "kernelspec": {
   "display_name": "Python 3",
   "language": "python",
   "name": "python3"
  },
  "language_info": {
   "codemirror_mode": {
    "name": "ipython",
    "version": 3
   },
   "file_extension": ".py",
   "mimetype": "text/x-python",
   "name": "python",
   "nbconvert_exporter": "python",
   "pygments_lexer": "ipython3",
   "version": "3.7.3"
  }
 },
 "nbformat": 4,
 "nbformat_minor": 2
}
