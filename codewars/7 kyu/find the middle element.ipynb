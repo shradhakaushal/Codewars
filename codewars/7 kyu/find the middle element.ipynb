{
 "cells": [
  {
   "cell_type": "code",
   "execution_count": null,
   "metadata": {},
   "outputs": [],
   "source": [
    "def gimme(input_array):\n",
    "    a = input_array[0]\n",
    "    b = input_array[1]\n",
    "    c = input_array[2]\n",
    "    if (c < a < b) or (b < a < c) :\n",
    "        return input_array.index(a)\n",
    "    elif (c < b < a) or (a < b < c):\n",
    "        return input_array.index(b)\n",
    "    elif (a < c < b) or (b < c < a):\n",
    "        return input_array.index(c)\n",
    "    else:\n",
    "        return []"
   ]
  }
 ],
 "metadata": {
  "kernelspec": {
   "display_name": "Python 3",
   "language": "python",
   "name": "python3"
  },
  "language_info": {
   "codemirror_mode": {
    "name": "ipython",
    "version": 3
   },
   "file_extension": ".py",
   "mimetype": "text/x-python",
   "name": "python",
   "nbconvert_exporter": "python",
   "pygments_lexer": "ipython3",
   "version": "3.7.3"
  }
 },
 "nbformat": 4,
 "nbformat_minor": 2
}
