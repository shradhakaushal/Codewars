{
 "cells": [
  {
   "cell_type": "code",
   "execution_count": null,
   "metadata": {},
   "outputs": [],
   "source": [
    "def paint_letterboxes(start, finish):\n",
    "    lis = [\"0\",\"1\", \"2\", \"3\", \"4\", \"5\", \"6\", \"7\", \"8\", \"9\"]\n",
    "    l = list(range(start,finish + 1))\n",
    "    b = map(str, l)\n",
    "    c = \"\".join(b)\n",
    "    d = list(c)\n",
    "    \n",
    "    k = sorted(d)\n",
    "    e = {y: k.count(y) for y in lis}\n",
    "    f = list(e.values())\n",
    "    return(f)"
   ]
  }
 ],
 "metadata": {
  "kernelspec": {
   "display_name": "Python 3",
   "language": "python",
   "name": "python3"
  },
  "language_info": {
   "codemirror_mode": {
    "name": "ipython",
    "version": 3
   },
   "file_extension": ".py",
   "mimetype": "text/x-python",
   "name": "python",
   "nbconvert_exporter": "python",
   "pygments_lexer": "ipython3",
   "version": "3.7.3"
  }
 },
 "nbformat": 4,
 "nbformat_minor": 2
}
