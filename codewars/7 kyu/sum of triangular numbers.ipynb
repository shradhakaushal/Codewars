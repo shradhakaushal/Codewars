{
 "cells": [
  {
   "cell_type": "code",
   "execution_count": null,
   "metadata": {},
   "outputs": [],
   "source": [
    "def sum_triangular_numbers(terms):\n",
    "    count = 0\n",
    "    l0 = 1\n",
    "    n = 2\n",
    "    seq = [l0]\n",
    "    seq1 = []\n",
    "    \n",
    "    while count<terms:\n",
    "        l1 = l0 + n\n",
    "        l0 = l1\n",
    "        n+= 1\n",
    "        count += 1\n",
    "        seq.append(l1)\n",
    "        elm = seq.pop(0)\n",
    "        seq1.append(elm)\n",
    "        s = sum(seq1)\n",
    "    if terms < 0:\n",
    "        return 0\n",
    "    else:\n",
    "        return (s)"
   ]
  }
 ],
 "metadata": {
  "kernelspec": {
   "display_name": "Python 3",
   "language": "python",
   "name": "python3"
  },
  "language_info": {
   "codemirror_mode": {
    "name": "ipython",
    "version": 3
   },
   "file_extension": ".py",
   "mimetype": "text/x-python",
   "name": "python",
   "nbconvert_exporter": "python",
   "pygments_lexer": "ipython3",
   "version": "3.7.3"
  }
 },
 "nbformat": 4,
 "nbformat_minor": 2
}
