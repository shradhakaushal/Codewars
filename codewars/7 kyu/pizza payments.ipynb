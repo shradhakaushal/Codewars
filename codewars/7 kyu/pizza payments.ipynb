{
 "cells": [
  {
   "cell_type": "code",
   "execution_count": null,
   "metadata": {},
   "outputs": [],
   "source": [
    "def michael_pays(cost):\n",
    "    v = (2 * cost)/3\n",
    "    y = float(\"{0:.2f}\".format(v))\n",
    "    k = 10\n",
    "    x = cost - y\n",
    "    \n",
    "    if cost >= 5 and x >10:\n",
    "        mi = y + (x - k)\n",
    "        mi1 = float(format(mi, \".2f\"))\n",
    "        return (mi1)\n",
    "    elif cost >= 5 and x <= 10:\n",
    "        mi = y\n",
    "        mi1 = float(format(mi, \".2f\"))\n",
    "        return (mi1)\n",
    "    else:\n",
    "        mi = cost\n",
    "        mi1 = float(format(mi, \".2f\"))\n",
    "        return (mi1)"
   ]
  }
 ],
 "metadata": {
  "kernelspec": {
   "display_name": "Python 3",
   "language": "python",
   "name": "python3"
  },
  "language_info": {
   "codemirror_mode": {
    "name": "ipython",
    "version": 3
   },
   "file_extension": ".py",
   "mimetype": "text/x-python",
   "name": "python",
   "nbconvert_exporter": "python",
   "pygments_lexer": "ipython3",
   "version": "3.7.3"
  }
 },
 "nbformat": 4,
 "nbformat_minor": 2
}
