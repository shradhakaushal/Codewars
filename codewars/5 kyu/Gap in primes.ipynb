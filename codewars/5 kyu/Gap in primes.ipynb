{
 "cells": [
  {
   "cell_type": "code",
   "execution_count": 1,
   "metadata": {},
   "outputs": [],
   "source": [
    "def gap(g, m, n):\n",
    "    last_prime = 2\n",
    "    for i in range(m, n+1):\n",
    "        prime = True\n",
    "\n",
    "        for j in range(2, int(n**.5)+1):\n",
    "            if i % j == 0:\n",
    "                prime = False\n",
    "                break\n",
    "\n",
    "        if prime:\n",
    "            if i - last_prime == g:\n",
    "                return [last_prime, i]\n",
    "            else:\n",
    "                last_prime = i"
   ]
  },
  {
   "cell_type": "code",
   "execution_count": null,
   "metadata": {},
   "outputs": [],
   "source": []
  }
 ],
 "metadata": {
  "kernelspec": {
   "display_name": "Python 3",
   "language": "python",
   "name": "python3"
  },
  "language_info": {
   "codemirror_mode": {
    "name": "ipython",
    "version": 3
   },
   "file_extension": ".py",
   "mimetype": "text/x-python",
   "name": "python",
   "nbconvert_exporter": "python",
   "pygments_lexer": "ipython3",
   "version": "3.7.3"
  }
 },
 "nbformat": 4,
 "nbformat_minor": 2
}
