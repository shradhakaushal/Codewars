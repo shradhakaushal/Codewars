{
 "cells": [
  {
   "cell_type": "code",
   "execution_count": null,
   "metadata": {},
   "outputs": [],
   "source": [
    "def pig_it(text):\n",
    "    t1 = text.split(' ')\n",
    "    ans = []\n",
    "    for i in t1:\n",
    "        if i[:-2] + i[:-1] != 'ay' and i[0].isalpha():\n",
    "            temp = i[1:] + i[0] + 'ay'\n",
    "            ans.append(temp)\n",
    "        else:\n",
    "            ans.append(i)\n",
    "    return ' '.join(ans)"
   ]
  }
 ],
 "metadata": {
  "kernelspec": {
   "display_name": "Python 3",
   "language": "python",
   "name": "python3"
  },
  "language_info": {
   "codemirror_mode": {
    "name": "ipython",
    "version": 3
   },
   "file_extension": ".py",
   "mimetype": "text/x-python",
   "name": "python",
   "nbconvert_exporter": "python",
   "pygments_lexer": "ipython3",
   "version": "3.7.3"
  }
 },
 "nbformat": 4,
 "nbformat_minor": 2
}
