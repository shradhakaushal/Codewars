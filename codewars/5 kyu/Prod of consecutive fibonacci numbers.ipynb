{
 "cells": [
  {
   "cell_type": "code",
   "execution_count": 1,
   "metadata": {},
   "outputs": [],
   "source": [
    "def fib(n):\n",
    "    a,b = 1,1\n",
    "\n",
    "    for i in range(n-1):\n",
    "        a,b = b,a+b\n",
    "\n",
    "    return a\n",
    "\n",
    "\n",
    "\n",
    "\n",
    "\n",
    "def productFib(prod):\n",
    "    current_value = 0\n",
    "    x = 0\n",
    "    fib1 = fib2 = 0\n",
    "\n",
    "    while current_value < prod:\n",
    "        x += 1\n",
    "        fib1 = fib(x)\n",
    "        fib2 = fib(x + 1)\n",
    "        current_value = fib1 * fib2\n",
    "\n",
    "    if current_value == prod:\n",
    "        return [fib1, fib2, True]\n",
    "\n",
    "    return [fib1, fib2, False]\n",
    "    \n",
    "    "
   ]
  },
  {
   "cell_type": "code",
   "execution_count": null,
   "metadata": {},
   "outputs": [],
   "source": []
  }
 ],
 "metadata": {
  "kernelspec": {
   "display_name": "Python 3",
   "language": "python",
   "name": "python3"
  },
  "language_info": {
   "codemirror_mode": {
    "name": "ipython",
    "version": 3
   },
   "file_extension": ".py",
   "mimetype": "text/x-python",
   "name": "python",
   "nbconvert_exporter": "python",
   "pygments_lexer": "ipython3",
   "version": "3.7.3"
  }
 },
 "nbformat": 4,
 "nbformat_minor": 2
}
