{
 "cells": [
  {
   "cell_type": "code",
   "execution_count": null,
   "metadata": {},
   "outputs": [],
   "source": [
    "def areYouPlayingBanjo(name):\n",
    "    namel = list(name)\n",
    "    if namel[0]==\"R\" or namel[0]==\"r\":\n",
    "        return(\"{} {}\".format(name,\"plays banjo\"))\n",
    "    else:\n",
    "        return(\"{} {}\".format(name ,\"does not play banjo\"))\n",
    "    "
   ]
  }
 ],
 "metadata": {
  "kernelspec": {
   "display_name": "Python 3",
   "language": "python",
   "name": "python3"
  },
  "language_info": {
   "codemirror_mode": {
    "name": "ipython",
    "version": 3
   },
   "file_extension": ".py",
   "mimetype": "text/x-python",
   "name": "python",
   "nbconvert_exporter": "python",
   "pygments_lexer": "ipython3",
   "version": "3.7.3"
  }
 },
 "nbformat": 4,
 "nbformat_minor": 2
}
