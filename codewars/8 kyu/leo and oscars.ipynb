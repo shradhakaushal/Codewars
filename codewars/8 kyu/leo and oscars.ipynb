{
 "cells": [
  {
   "cell_type": "code",
   "execution_count": null,
   "metadata": {},
   "outputs": [],
   "source": [
    "def leo(oscar):\n",
    "    if oscar <= 88:\n",
    "        return {86: 'Not even for Wolf of wallstreet?!',\n",
    "                88: 'Leo finally won the oscar! Leo is happy'}.get(\n",
    "            oscar, 'When will you give Leo an Oscar?')\n",
    "    return 'Leo got one already!'"
   ]
  }
 ],
 "metadata": {
  "kernelspec": {
   "display_name": "Python 3",
   "language": "python",
   "name": "python3"
  },
  "language_info": {
   "codemirror_mode": {
    "name": "ipython",
    "version": 3
   },
   "file_extension": ".py",
   "mimetype": "text/x-python",
   "name": "python",
   "nbconvert_exporter": "python",
   "pygments_lexer": "ipython3",
   "version": "3.7.3"
  }
 },
 "nbformat": 4,
 "nbformat_minor": 2
}
