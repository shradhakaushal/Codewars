{
 "cells": [
  {
   "cell_type": "code",
   "execution_count": null,
   "metadata": {},
   "outputs": [],
   "source": [
    "def min(arr):\n",
    "    mini = arr[0]\n",
    "    for i in arr[0:]:\n",
    "        if i < mini:\n",
    "            mini = i\n",
    "    return (mini)\n",
    "\n",
    "def max(arr):\n",
    "    maxi = arr[0]\n",
    "    for a in arr[0:]:\n",
    "        if a > maxi:\n",
    "            maxi = a\n",
    "    return (maxi)"
   ]
  }
 ],
 "metadata": {
  "kernelspec": {
   "display_name": "Python 3",
   "language": "python",
   "name": "python3"
  },
  "language_info": {
   "codemirror_mode": {
    "name": "ipython",
    "version": 3
   },
   "file_extension": ".py",
   "mimetype": "text/x-python",
   "name": "python",
   "nbconvert_exporter": "python",
   "pygments_lexer": "ipython3",
   "version": "3.7.3"
  }
 },
 "nbformat": 4,
 "nbformat_minor": 2
}
